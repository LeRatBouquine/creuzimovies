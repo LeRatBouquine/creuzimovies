{
 "cells": [
  {
   "cell_type": "markdown",
   "metadata": {},
   "source": [
    "# ROUTINE CLEANING (HEBDOMADAIRE)"
   ]
  },
  {
   "cell_type": "code",
   "execution_count": 90,
   "metadata": {},
   "outputs": [],
   "source": [
    "import pandas as pd"
   ]
  },
  {
   "cell_type": "code",
   "execution_count": 91,
   "metadata": {},
   "outputs": [],
   "source": [
    "#Lecture de la BDD intermédiaire rassemblant les tconsts des films retenus pour nos BDDs\n",
    "df_tconst = pd.read_csv('tconst.csv', sep=',')\n",
    "df_tconst.rename(columns = {'titleId':'tconst'}, inplace=True)"
   ]
  },
  {
   "cell_type": "markdown",
   "metadata": {},
   "source": [
    "# TITLE BASICS"
   ]
  },
  {
   "cell_type": "code",
   "execution_count": 92,
   "metadata": {},
   "outputs": [
    {
     "name": "stderr",
     "output_type": "stream",
     "text": [
      "/var/folders/vs/6ltrzv_x4w1d9xggkvn3wzd40000gn/T/ipykernel_60934/1450652348.py:14: SettingWithCopyWarning: \n",
      "A value is trying to be set on a copy of a slice from a DataFrame\n",
      "\n",
      "See the caveats in the documentation: https://pandas.pydata.org/pandas-docs/stable/user_guide/indexing.html#returning-a-view-versus-a-copy\n",
      "  dfTB['startYear'][dfTB['tconst'] == dfTBA2.iloc[i,0]] = x\n",
      "/var/folders/vs/6ltrzv_x4w1d9xggkvn3wzd40000gn/T/ipykernel_60934/1450652348.py:15: SettingWithCopyWarning: \n",
      "A value is trying to be set on a copy of a slice from a DataFrame\n",
      "\n",
      "See the caveats in the documentation: https://pandas.pydata.org/pandas-docs/stable/user_guide/indexing.html#returning-a-view-versus-a-copy\n",
      "  dfTB['isAdult'][dfTB['tconst'] == dfTBA2.iloc[i,0]] = 0\n",
      "/var/folders/vs/6ltrzv_x4w1d9xggkvn3wzd40000gn/T/ipykernel_60934/1450652348.py:24: SettingWithCopyWarning: \n",
      "A value is trying to be set on a copy of a slice from a DataFrame\n",
      "\n",
      "See the caveats in the documentation: https://pandas.pydata.org/pandas-docs/stable/user_guide/indexing.html#returning-a-view-versus-a-copy\n",
      "  dfTB['genres'][dfTB['tconst'] == dfTBA2.iloc[i,0]] = x\n",
      "/var/folders/vs/6ltrzv_x4w1d9xggkvn3wzd40000gn/T/ipykernel_60934/1450652348.py:25: SettingWithCopyWarning: \n",
      "A value is trying to be set on a copy of a slice from a DataFrame\n",
      "\n",
      "See the caveats in the documentation: https://pandas.pydata.org/pandas-docs/stable/user_guide/indexing.html#returning-a-view-versus-a-copy\n",
      "  dfTB['runtimeMinutes'][dfTB['tconst'] == dfTBA2.iloc[i,0]] = 0\n"
     ]
    }
   ],
   "source": [
    "title_basics = 'https://datasets.imdbws.com/title.basics.tsv.gz'\n",
    "dfTB = pd.read_csv(title_basics, sep='\\t')\n",
    "\n",
    "dfTB['isAdult'] = pd.to_numeric(dfTB['isAdult'], errors='coerce')\n",
    "dfTB['endYear'] = pd.to_numeric(dfTB['endYear'], errors='coerce')\n",
    "dfTB['startYear'] = pd.to_numeric(dfTB['startYear'], errors='coerce')\n",
    "\n",
    "## Replacer les années start/endYear qui ont été rentré dans la colonne isadult\n",
    "\n",
    "dfTBA = dfTB[dfTB['isAdult']>1]\n",
    "dfTBA2 = dfTBA.loc[:,['tconst', 'isAdult']]\n",
    "for i in range(len(dfTBA2)):\n",
    "    x = dfTBA2.iloc[i,1]\n",
    "    dfTB['startYear'][dfTB['tconst'] == dfTBA2.iloc[i,0]] = x\n",
    "    dfTB['isAdult'][dfTB['tconst'] == dfTBA2.iloc[i,0]] = 0\n",
    "del dfTBA\n",
    "del dfTBA2 \n",
    "\n",
    "## Replacer les genres qui ont été rentré dans la colonne run Times\n",
    "dfTBA = dfTB[dfTB['runtimeMinutes'].str.contains(\"[a-z]\") | dfTB['runtimeMinutes'].str.contains(\"[A-I]\") ]\n",
    "dfTBA2 = dfTBA.loc[:,['tconst', 'runtimeMinutes']]\n",
    "for i in range(len(dfTBA2)):\n",
    "    x = dfTBA2.iloc[i,1]\n",
    "    dfTB['genres'][dfTB['tconst'] == dfTBA2.iloc[i,0]] = x\n",
    "    dfTB['runtimeMinutes'][dfTB['tconst'] == dfTBA2.iloc[i,0]] = 0\n",
    "del dfTBA\n",
    "del dfTBA2\n",
    "## Optimisation des types des colonnes numériques\n",
    "dfTB['runtimeMinutes'] = pd.to_numeric(dfTB['runtimeMinutes'], errors='coerce')\n",
    "\n",
    "dfTB['startYear'].fillna(0, inplace = True)\n",
    "dfTB['isAdult'].fillna(0, inplace = True)  # à voir si on considère les Nan comme films pour adultes ou non \n",
    "dfTB['endYear'].fillna(0, inplace = True)\n",
    "dfTB['runtimeMinutes'].fillna(0, inplace = True)\n",
    "\n",
    "dfTB['startYear']=dfTB['startYear'].astype(int, errors='ignore')\n",
    "dfTB['isAdult']=dfTB['isAdult'].astype(bool, errors='ignore')\n",
    "dfTB['endYear']=dfTB['endYear'].astype(int, errors='ignore')\n",
    "dfTB['runtimeMinutes'] = dfTB['runtimeMinutes'].astype(int, errors='ignore')\n",
    "\n",
    "dfTB['endYear'] = pd.to_numeric(dfTB['endYear'],downcast='integer',errors='ignore')\n",
    "dfTB['startYear'] = pd.to_numeric(dfTB['startYear'],downcast='integer',errors='ignore')\n",
    "dfTB['runtimeMinutes'] = pd.to_numeric(dfTB['runtimeMinutes'],downcast='integer',errors='ignore')\n",
    "\n",
    "dfTBOK=dfTB.loc[dfTB['isAdult']==False]\n",
    "\n",
    "dfTB2 = pd.merge(df_tconst, dfTBOK, how='left', on='tconst')\n",
    "dfTB2 = dfTB2.drop_duplicates()\n",
    "\n",
    "dfTB2.to_csv('title.basics2.tsv', sep='\\t', index=False)"
   ]
  },
  {
   "cell_type": "markdown",
   "metadata": {},
   "source": [
    "#TITLE PRINCIPALS"
   ]
  },
  {
   "cell_type": "code",
   "execution_count": 93,
   "metadata": {},
   "outputs": [],
   "source": [
    "title_principals = 'https://datasets.imdbws.com/title.principals.tsv.gz'\n",
    "df_title_principals = pd.read_csv(title_principals, sep='\\t')\n",
    "\n",
    "df_title_principals['job'].loc[df_title_principals['job']==r'\\N']= None\n",
    "df_title_principals['characters'].loc[df_title_principals['characters']==r'\\N']= None\n",
    "\n",
    "dfTP2 = pd.merge(df_tconst, df_title_principals, how='left', on='tconst')\n",
    "dfTP2 = dfTP2.drop_duplicates()\n",
    "\n",
    "dfTP2.to_csv('title.principals2.tsv', sep='\\t',index=False)\n",
    "\n",
    "#Sur cette table, on remplace simplement les valeurs \\N par des vrais 'None' pour éviter que l'ordinateur perde du temps à parcourir des lignes qui sont en réalité vides"
   ]
  },
  {
   "cell_type": "markdown",
   "metadata": {},
   "source": [
    "#TITLE RATINGS"
   ]
  },
  {
   "cell_type": "code",
   "execution_count": 94,
   "metadata": {},
   "outputs": [],
   "source": [
    "title_ratings = 'https://datasets.imdbws.com/title.ratings.tsv.gz'\n",
    "df_title_ratings = pd.read_csv(title_ratings, sep='\\t')\n",
    "\n",
    "#Ces colonnes doivent être converties en integer pour être correctement interprétées. \n",
    "df_title_ratings['numVotes'] = pd.to_numeric(df_title_ratings['numVotes'],downcast='integer',errors='ignore')\n",
    "df_title_ratings['averageRating'] = pd.to_numeric(df_title_ratings['averageRating'],downcast='float',errors='ignore')\n",
    "\n",
    "dfTR2 = pd.merge(df_tconst, df_title_ratings, how='left', on='tconst')\n",
    "dfTR2 = dfTR2.drop_duplicates()\n",
    "\n",
    "dfTR2.to_csv('title.ratings2.tsv', sep='\\t', index=False)"
   ]
  },
  {
   "cell_type": "markdown",
   "metadata": {},
   "source": [
    "#TITLE AKAS"
   ]
  },
  {
   "cell_type": "code",
   "execution_count": 95,
   "metadata": {},
   "outputs": [],
   "source": [
    "title_akas = 'https://datasets.imdbws.com/title.akas.tsv.gz'\n",
    "df_title_akas = pd.read_csv(title_akas, sep='\\t')\n",
    "\n",
    "df_title_akas['isOriginalTitle']=pd.to_numeric(df_title_akas['isOriginalTitle'], errors ='coerce')\n",
    "df_title_akas.fillna(1, inplace = True)\n",
    "df_title_akas['isOriginalTitle'] = df_title_akas['isOriginalTitle'].astype(bool, errors='ignore')\n",
    "\n",
    "df_title_akas['language'].loc[df_title_akas['language']==r'\\N']= None\n",
    "df_title_akas['types'].loc[df_title_akas['types']==r'\\N']= None\n",
    "df_title_akas['attributes'].loc[df_title_akas['attributes']==r'\\N']= None\n",
    " \n",
    "df_french = df_title_akas.loc[df_title_akas['region']=='FR']\n",
    "df_french.to_csv('title.akas2.tsv', sep='\\t', index=False )\n",
    "#df_title_akas.to_csv('title.akas2.tsv', sep='\\t', index=False)"
   ]
  },
  {
   "cell_type": "markdown",
   "metadata": {},
   "source": [
    "#NAME BASICS"
   ]
  },
  {
   "cell_type": "code",
   "execution_count": 96,
   "metadata": {},
   "outputs": [],
   "source": [
    "name_basics = 'https://datasets.imdbws.com/name.basics.tsv.gz'\n",
    "df_name_basics = pd.read_csv(name_basics, sep='\\t')\n",
    "\n",
    "df_name_basics['birthYear'] = pd.to_numeric(df_name_basics['birthYear'], errors='coerce')\n",
    "df_name_basics['birthYear'].loc[df_name_basics['birthYear']==0]= None\n",
    "df_name_basics['birthYear']=df_name_basics['birthYear'].astype(int, errors='ignore')\n",
    "df_name_basics['birthYear'] = pd.to_numeric(df_name_basics['birthYear'],downcast='integer',errors='ignore')\n",
    "\n",
    "df_name_basics['deathYear'] = pd.to_numeric(df_name_basics['deathYear'], errors='coerce')\n",
    "df_name_basics['deathYear'].loc[df_name_basics['deathYear']==0]= None\n",
    "df_name_basics['deathYear']=df_name_basics['deathYear'].astype(int, errors='ignore')\n",
    "df_name_basics['deathYear'] = pd.to_numeric(df_name_basics['deathYear'],downcast='integer',errors='ignore')\n",
    "\n",
    "df_name_basics.to_csv('name.basics2.tsv', sep='\\t', index=False)\n"
   ]
  },
  {
   "cell_type": "markdown",
   "metadata": {},
   "source": [
    "# TITLE CREW"
   ]
  },
  {
   "cell_type": "code",
   "execution_count": 97,
   "metadata": {},
   "outputs": [],
   "source": [
    "title_crew = 'https://datasets.imdbws.com/title.crew.tsv.gz'\n",
    "df_title_crew = pd.read_csv(title_crew, sep='\\t')\n",
    "\n",
    "df_title_crew['writers'].loc[df_title_crew['writers']==r'\\N']= None\n",
    "df_title_crew['directors'].loc[df_title_crew['directors']==r'\\N']= None\n",
    "\n",
    "df_title_crew.to_csv('title.crew2.tsv', sep='\\t', index=False)"
   ]
  },
  {
   "cell_type": "markdown",
   "metadata": {},
   "source": [
    "# TITLE EPISODE"
   ]
  },
  {
   "cell_type": "code",
   "execution_count": 98,
   "metadata": {},
   "outputs": [],
   "source": [
    "title_episode = 'https://datasets.imdbws.com/title.episode.tsv.gz'\n",
    "df_title_episode = pd.read_csv(title_episode, sep='\\t')\n",
    "\n",
    "df_title_episode['episodeNumber'].loc[df_title_episode['episodeNumber']==r'\\N']= None\n",
    "df_title_episode['seasonNumber'].loc[df_title_episode['seasonNumber']==r'\\N']= None\n",
    "\n",
    "df_title_episode.to_csv('title.episode2.tsv', sep='\\t', index=False)"
   ]
  }
 ],
 "metadata": {
  "interpreter": {
   "hash": "8b86802a4d9c11714718a92aaa5c89467493f449bad566b0d0dafae89e353572"
  },
  "kernelspec": {
   "display_name": "Python 3.9.7 ('base')",
   "language": "python",
   "name": "python3"
  },
  "language_info": {
   "codemirror_mode": {
    "name": "ipython",
    "version": 3
   },
   "file_extension": ".py",
   "mimetype": "text/x-python",
   "name": "python",
   "nbconvert_exporter": "python",
   "pygments_lexer": "ipython3",
   "version": "3.9.7"
  },
  "orig_nbformat": 4
 },
 "nbformat": 4,
 "nbformat_minor": 2
}
